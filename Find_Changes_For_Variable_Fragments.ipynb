{
 "cells": [
  {
   "cell_type": "code",
   "execution_count": null,
   "id": "fbe5297f",
   "metadata": {},
   "outputs": [],
   "source": [
    "import xml.etree.ElementTree as ET\n",
    "\n",
    "def find_corresponding_changes(xml_file, research_element):\n",
    "    \"\"\"\n",
    "    Finds all `<change>` elements in an XML file where `<old_element>` matches a given research element.\n",
    "\n",
    "    Args:\n",
    "        xml_file (str): Path to the XML file.\n",
    "        research_element (str): The `<old_element>` value to search for.\n",
    "\n",
    "    Returns:\n",
    "        list: A list of dictionaries, where each dictionary represents a matching `<change>` element\n",
    "              with its key-value pairs extracted.\n",
    "    \"\"\"\n",
    "\n",
    "    tree = ET.parse(xml_file)\n",
    "    root = tree.getroot()\n",
    "\n",
    "    matching_changes = []\n",
    "    for change_element in root.findall(\".//change\"):\n",
    "        old_element = change_element.find(\"old_element\")\n",
    "        if old_element is not None and old_element.text == research_element:\n",
    "            change_data = {\n",
    "                \"id\": change_element.find(\"id\").text,\n",
    "                \"date\": change_element.find(\"date\").text,\n",
    "                \"trace\": change_element.find(\"trace\").text,\n",
    "                \"pv\": change_element.find(\"pv\").text,\n",
    "                \"fragement_id\": change_element.find(\"fragement_id\").text,\n",
    "                \"change_type\": change_element.find(\"change_type\").text,\n",
    "                \"new_element\": change_element.find(\"new_element\").text,\n",
    "            }\n",
    "            matching_changes.append(change_data)\n",
    "\n",
    "    return matching_changes\n",
    "\n",
    "\n",
    "# Example usage\n",
    "xml_file = \"ChangeLog.xml\"\n",
    "research_element = \"D1\"  # The `<old_element>` value to search for\n",
    "\n",
    "matching_changes = find_corresponding_changes(xml_file, research_element)\n",
    "\n",
    "if matching_changes:\n",
    "    print(\"Found matching changes:\")\n",
    "    for change_data in matching_changes:\n",
    "        print(change_data)\n",
    "else:\n",
    "    print(\"No matching changes found.\")"
   ]
  }
 ],
 "metadata": {
  "kernelspec": {
   "display_name": "Python 3 (ipykernel)",
   "language": "python",
   "name": "python3"
  },
  "language_info": {
   "codemirror_mode": {
    "name": "ipython",
    "version": 3
   },
   "file_extension": ".py",
   "mimetype": "text/x-python",
   "name": "python",
   "nbconvert_exporter": "python",
   "pygments_lexer": "ipython3",
   "version": "3.11.5"
  }
 },
 "nbformat": 4,
 "nbformat_minor": 5
}
